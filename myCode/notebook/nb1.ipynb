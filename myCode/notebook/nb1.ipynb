{
 "cells": [
  {
   "cell_type": "code",
   "execution_count": 1,
   "id": "da9bd98d-7871-4889-ae1b-388f19623922",
   "metadata": {
    "collapsed": true,
    "jupyter": {
     "outputs_hidden": true
    }
   },
   "outputs": [],
   "source": [
    "import os\n",
    "\n",
    "# Set Spark and Java environment variables\n",
    "os.environ['SPARK_HOME'] = '/opt/spark'\n",
    "os.environ['JAVA_HOME'] = os.popen('dirname $(dirname $(readlink -f $(which java)))').read().strip()\n",
    "os.environ['PATH'] = f\"{os.environ['PATH']}:/opt/spark/bin:/opt/spark/sbin\"\n",
    "os.environ['PYSPARK_DRIVER_PYTHON'] = 'jupyter'\n",
    "os.environ['PYSPARK_DRIVER_PYTHON_OPTS'] = 'lab'\n",
    "os.environ['PYSPARK_PYTHON'] = 'python'"
   ]
  },
  {
   "cell_type": "code",
   "execution_count": 7,
   "id": "75efd6e5-cc6a-4189-accd-6990829f7fe6",
   "metadata": {
    "collapsed": true,
    "jupyter": {
     "outputs_hidden": true
    }
   },
   "outputs": [
    {
     "name": "stderr",
     "output_type": "stream",
     "text": [
      "25/04/23 15:45:11 WARN SparkSession: Using an existing Spark session; only runtime SQL configurations will take effect.\n"
     ]
    }
   ],
   "source": [
    "# Import PySpark\n",
    "from pyspark.sql import SparkSession\n",
    "# Create a SparkSession\n",
    "spark = SparkSession.builder \\\n",
    "    .appName(\"PySpark-Get-Started\") \\\n",
    "    .getOrCreate()"
   ]
  },
  {
   "cell_type": "code",
   "execution_count": 8,
   "id": "661356fb-d977-42f7-b227-384e994444b3",
   "metadata": {
    "collapsed": true,
    "jupyter": {
     "outputs_hidden": true
    }
   },
   "outputs": [
    {
     "name": "stdout",
     "output_type": "stream",
     "text": [
      "+-------+---+\n",
      "|   Name|Age|\n",
      "+-------+---+\n",
      "|  Alice| 25|\n",
      "|    Bob| 30|\n",
      "|Charlie| 35|\n",
      "+-------+---+\n",
      "\n"
     ]
    }
   ],
   "source": [
    "data = [(\"Alice\", 25), (\"Bob\", 30), (\"Charlie\", 35)]\n",
    "df = spark.createDataFrame(data, [\"Name\", \"Age\"])\n",
    "df.show()"
   ]
  },
  {
   "cell_type": "code",
   "execution_count": 2,
   "id": "5b1f905f-7e73-4f6a-863d-9a47dc1a934e",
   "metadata": {
    "collapsed": true,
    "jupyter": {
     "outputs_hidden": true
    }
   },
   "outputs": [
    {
     "name": "stdout",
     "output_type": "stream",
     "text": [
      "[INFO] Starting Spark job to read Parquet files from MinIO and print contents\n",
      "[INFO] MinIO endpoint: http://172.21.6.68:9000\n",
      "[INFO] MinIO bucket: vtrackingspark2\n",
      "[INFO] MinIO path: parquet\n",
      ":: loading settings :: url = jar:file:/opt/spark/jars/ivy-2.5.1.jar!/org/apache/ivy/core/settings/ivysettings.xml\n"
     ]
    },
    {
     "name": "stderr",
     "output_type": "stream",
     "text": [
      "Ivy Default Cache set to: /home/vht/.ivy2/cache\n",
      "The jars for the packages stored in: /home/vht/.ivy2/jars\n",
      "org.apache.hadoop#hadoop-aws added as a dependency\n",
      ":: resolving dependencies :: org.apache.spark#spark-submit-parent-c6f87720-d6d2-42a1-b681-fe5f1931e0ef;1.0\n",
      "\tconfs: [default]\n",
      "\tfound org.apache.hadoop#hadoop-aws;3.3.4 in central\n",
      "\tfound com.amazonaws#aws-java-sdk-bundle;1.12.262 in central\n",
      "\tfound org.wildfly.openssl#wildfly-openssl;1.0.7.Final in central\n",
      ":: resolution report :: resolve 190ms :: artifacts dl 6ms\n",
      "\t:: modules in use:\n",
      "\tcom.amazonaws#aws-java-sdk-bundle;1.12.262 from central in [default]\n",
      "\torg.apache.hadoop#hadoop-aws;3.3.4 from central in [default]\n",
      "\torg.wildfly.openssl#wildfly-openssl;1.0.7.Final from central in [default]\n",
      "\t---------------------------------------------------------------------\n",
      "\t|                  |            modules            ||   artifacts   |\n",
      "\t|       conf       | number| search|dwnlded|evicted|| number|dwnlded|\n",
      "\t---------------------------------------------------------------------\n",
      "\t|      default     |   3   |   0   |   0   |   0   ||   3   |   0   |\n",
      "\t---------------------------------------------------------------------\n",
      ":: retrieving :: org.apache.spark#spark-submit-parent-c6f87720-d6d2-42a1-b681-fe5f1931e0ef\n",
      "\tconfs: [default]\n",
      "\t0 artifacts copied, 3 already retrieved (0kB/6ms)\n",
      "25/04/23 15:51:28 WARN NativeCodeLoader: Unable to load native-hadoop library for your platform... using builtin-java classes where applicable\n",
      "Setting default log level to \"WARN\".\n",
      "To adjust logging level use sc.setLogLevel(newLevel). For SparkR, use setLogLevel(newLevel).\n",
      "25/04/23 15:51:29 WARN Utils: Service 'SparkUI' could not bind on port 4040. Attempting port 4041.\n"
     ]
    },
    {
     "name": "stdout",
     "output_type": "stream",
     "text": [
      "[INFO] Spark session姿勢 created.\n",
      "[INFO] Reading Parquet files from s3a://vtrackingspark2/parquet...\n"
     ]
    },
    {
     "name": "stderr",
     "output_type": "stream",
     "text": [
      "25/04/23 15:51:32 WARN MetricsConfig: Cannot locate configuration: tried hadoop-metrics2-s3a-file-system.properties,hadoop-metrics2.properties\n",
      "                                                                                "
     ]
    },
    {
     "name": "stdout",
     "output_type": "stream",
     "text": [
      "[INFO] Parquet DataFrame loaded.\n"
     ]
    }
   ],
   "source": [
    "from pyspark.sql import SparkSession\n",
    "\n",
    "# Config variables\n",
    "# KAFKA_BOOTSTRAP_SERVERS = \"localhost:9092\"\n",
    "# KAFKA_TOPIC = \"spark-consume\"\n",
    "MINIO_ENDPOINT = \"http://172.21.6.68:9000\"\n",
    "MINIO_ACCESS_KEY = \"minioadmin\"\n",
    "MINIO_SECRET_KEY = \"minioadmin\"\n",
    "MINIO_BUCKET = \"vtrackingspark2\"\n",
    "MINIO_PATH = \"parquet\"\n",
    "\n",
    "print(\"[INFO] Starting Spark job to read Parquet files from MinIO and print contents\")\n",
    "print(f\"[INFO] MinIO endpoint: {MINIO_ENDPOINT}\")\n",
    "print(f\"[INFO] MinIO bucket: {MINIO_BUCKET}\")\n",
    "print(f\"[INFO] MinIO path: {MINIO_PATH}\")\n",
    "\n",
    "# Initialize Spark session\n",
    "spark = SparkSession.builder \\\n",
    "    .appName(\"ReadParquetFromMinIO\") \\\n",
    "    .config(\"spark.jars.packages\", \"org.apache.hadoop:hadoop-aws:3.3.4\") \\\n",
    "    .config(\"spark.hadoop.fs.s3a.endpoint\", MINIO_ENDPOINT) \\\n",
    "    .config(\"spark.hadoop.fs.s3a.access.key\", MINIO_ACCESS_KEY) \\\n",
    "    .config(\"spark.hadoop.fs.s3a.secret.key\", MINIO_SECRET_KEY) \\\n",
    "    .config(\"spark.hadoop.fs.s3a.impl\", \"org.apache.hadoop.fs.s3a.S3AFileSystem\") \\\n",
    "    .config(\"spark.hadoop.fs.s3a.path.style.access\", \"true\") \\\n",
    "    .config(\"spark.hadoop.fs.s3a.connection.ssl.enabled\", \"false\") \\\n",
    "    .getOrCreate()\n",
    "spark.sparkContext.setLogLevel(\"WARN\")\n",
    "print(\"[INFO] Spark session姿勢 created.\")\n",
    "\n",
    "# Read Parquet files from MinIO\n",
    "print(f\"[INFO] Reading Parquet files from s3a://{MINIO_BUCKET}/{MINIO_PATH}...\")\n",
    "parquet_df = spark.read \\\n",
    "    .format(\"parquet\") \\\n",
    "    .load(f\"s3a://{MINIO_BUCKET}/{MINIO_PATH}\")\n",
    "print(\"[INFO] Parquet DataFrame loaded.\")"
   ]
  },
  {
   "cell_type": "code",
   "execution_count": 3,
   "id": "9072730f-5e47-46ee-bf15-2e7bd12e5ee4",
   "metadata": {
    "collapsed": true,
    "jupyter": {
     "outputs_hidden": true
    }
   },
   "outputs": [
    {
     "name": "stdout",
     "output_type": "stream",
     "text": [
      "[INFO] Schema of the Parquet DataFrame:\n",
      "root\n",
      " |-- entity_type: string (nullable = true)\n",
      " |-- attribute_type: string (nullable = true)\n",
      " |-- attribute_key: string (nullable = true)\n",
      " |-- logged: boolean (nullable = true)\n",
      " |-- bool_v: boolean (nullable = true)\n",
      " |-- str_v: string (nullable = true)\n",
      " |-- long_v: long (nullable = true)\n",
      " |-- dbl_v: double (nullable = true)\n",
      " |-- json_v: struct (nullable = true)\n",
      " |    |-- direction: long (nullable = true)\n",
      " |    |-- geocoding: string (nullable = true)\n",
      " |    |-- history: boolean (nullable = true)\n",
      " |    |-- latitude: double (nullable = true)\n",
      " |    |-- longitude: double (nullable = true)\n",
      " |    |-- odometer: double (nullable = true)\n",
      " |    |-- speed: long (nullable = true)\n",
      " |    |-- status: string (nullable = true)\n",
      " |    |-- timestamp: long (nullable = true)\n",
      " |-- last_update_ts: long (nullable = true)\n",
      " |-- ts: long (nullable = true)\n",
      " |-- value_type: string (nullable = true)\n",
      " |-- value_nil: boolean (nullable = true)\n",
      " |-- new_attribute_key: string (nullable = true)\n",
      " |-- project_id: string (nullable = true)\n",
      " |-- not_send_ws: boolean (nullable = true)\n",
      " |-- AttributeSub: array (nullable = true)\n",
      " |    |-- element: struct (containsNull = true)\n",
      " |    |    |-- entity_type: string (nullable = true)\n",
      " |    |    |-- entity_id: string (nullable = true)\n",
      " |    |    |-- attribute_type: string (nullable = true)\n",
      " |    |    |-- attribute_key: string (nullable = true)\n",
      " |    |    |-- logged: boolean (nullable = true)\n",
      " |    |    |-- bool_v: boolean (nullable = true)\n",
      " |    |    |-- str_v: string (nullable = true)\n",
      " |    |    |-- long_v: long (nullable = true)\n",
      " |    |    |-- dbl_v: double (nullable = true)\n",
      " |    |    |-- json_v: struct (nullable = true)\n",
      " |    |    |    |-- direction: long (nullable = true)\n",
      " |    |    |    |-- geocoding: string (nullable = true)\n",
      " |    |    |    |-- history: boolean (nullable = true)\n",
      " |    |    |    |-- latitude: double (nullable = true)\n",
      " |    |    |    |-- longitude: double (nullable = true)\n",
      " |    |    |    |-- odometer: double (nullable = true)\n",
      " |    |    |    |-- speed: long (nullable = true)\n",
      " |    |    |    |-- status: string (nullable = true)\n",
      " |    |    |    |-- timestamp: long (nullable = true)\n",
      " |    |    |-- last_update_ts: long (nullable = true)\n",
      " |    |    |-- ts: long (nullable = true)\n",
      " |    |    |-- value_type: string (nullable = true)\n",
      " |    |    |-- value_nil: boolean (nullable = true)\n",
      " |    |    |-- new_attribute_key: string (nullable = true)\n",
      " |    |    |-- project_id: string (nullable = true)\n",
      " |    |    |-- not_send_ws: boolean (nullable = true)\n",
      " |    |    |-- AttributeSub: array (nullable = true)\n",
      " |    |    |    |-- element: string (containsNull = true)\n",
      " |-- entity_id: string (nullable = true)\n",
      " |-- day: date (nullable = true)\n",
      "\n",
      "[INFO] Contents of the Parquet DataFrame:\n"
     ]
    },
    {
     "name": "stderr",
     "output_type": "stream",
     "text": [
      "                                                                                "
     ]
    },
    {
     "name": "stdout",
     "output_type": "stream",
     "text": [
      "+-----------+--------------+-------------+------+------+-----+------+-----+--------------------------------------------------------------------------------------------+--------------+-------------+----------+---------+-----------------+------------------------------------+-----------+------------+------------------------------------+----------+\n",
      "|entity_type|attribute_type|attribute_key|logged|bool_v|str_v|long_v|dbl_v|json_v                                                                                      |last_update_ts|ts           |value_type|value_nil|new_attribute_key|project_id                          |not_send_ws|AttributeSub|entity_id                           |day       |\n",
      "+-----------+--------------+-------------+------+------+-----+------+-----+--------------------------------------------------------------------------------------------+--------------+-------------+----------+---------+-----------------+------------------------------------+-----------+------------+------------------------------------+----------+\n",
      "|VEHICLE    |SCOPE_CLIENT  |datas        |true  |false |     |0     |0.0  |{88, Fake address, Vietnam, false, 21.163721, 105.545504, 57907.49, 60, run, 1745038643331} |1745038643331 |1745038643331|JSON      |false    |                 |3207b5c0-96f8-46f2-9c38-9a08a825ab6c|false      |[]          |3fa541ad-dda7-4bd8-bdbd-8f78d2f76003|2025-04-19|\n",
      "|VEHICLE    |SCOPE_CLIENT  |datas        |true  |false |     |0     |0.0  |{45, Fake address, Vietnam, false, 21.23607, 105.47828, 52203.24, 52, run, 1745038643331}   |1745038643331 |1745038643331|JSON      |false    |                 |3207b5c0-96f8-46f2-9c38-9a08a825ab6c|false      |[]          |3fa541ad-dda7-4bd8-bdbd-8f78d2f76003|2025-04-19|\n",
      "|VEHICLE    |SCOPE_CLIENT  |datas        |true  |false |     |0     |0.0  |{285, Fake address, Vietnam, false, 21.196958, 105.52343, 51574.85, 33, run, 1744952243331} |1744952243331 |1744952243331|JSON      |false    |                 |3207b5c0-96f8-46f2-9c38-9a08a825ab6c|false      |[]          |3fa541ad-dda7-4bd8-bdbd-8f78d2f76004|2025-04-18|\n",
      "|VEHICLE    |SCOPE_CLIENT  |datas        |true  |false |     |0     |0.0  |{115, Fake address, Vietnam, false, 21.241835, 105.536682, 69897.99, 57, run, 1744952243331}|1744952243331 |1744952243331|JSON      |false    |                 |3207b5c0-96f8-46f2-9c38-9a08a825ab6c|false      |[]          |3fa541ad-dda7-4bd8-bdbd-8f78d2f76004|2025-04-18|\n",
      "|VEHICLE    |SCOPE_CLIENT  |datas        |true  |false |     |0     |0.0  |{84, Fake address, Vietnam, false, 21.197952, 105.450818, 91825.33, 0, stop, 1745297575717} |1745297575717 |1745297575717|JSON      |false    |                 |3207b5c0-96f8-46f2-9c38-9a08a825ab6c|false      |[]          |3fa541ad-dda7-4bd8-bdbd-8f78d2f76000|2025-04-22|\n",
      "|VEHICLE    |SCOPE_CLIENT  |datas        |true  |false |     |0     |0.0  |{250, Fake address, Vietnam, false, 21.19021, 105.498085, 92349.52, 0, stop, 1745297843331} |1745297843331 |1745297843331|JSON      |false    |                 |3207b5c0-96f8-46f2-9c38-9a08a825ab6c|false      |[]          |3fa541ad-dda7-4bd8-bdbd-8f78d2f76000|2025-04-22|\n",
      "|VEHICLE    |SCOPE_CLIENT  |datas        |true  |false |     |0     |0.0  |{63, Fake address, Vietnam, false, 21.230976, 105.46463, 82405.82, 0, stop, 1744951975717}  |1744951975717 |1744951975717|JSON      |false    |                 |3207b5c0-96f8-46f2-9c38-9a08a825ab6c|false      |[]          |3fa541ad-dda7-4bd8-bdbd-8f78d2f76004|2025-04-18|\n",
      "|VEHICLE    |SCOPE_CLIENT  |datas        |true  |false |     |0     |0.0  |{164, Fake address, Vietnam, false, 21.209888, 105.505698, 61320.38, 0, stop, 1744693043331}|1744693043331 |1744693043331|JSON      |false    |                 |3207b5c0-96f8-46f2-9c38-9a08a825ab6c|false      |[]          |3fa541ad-dda7-4bd8-bdbd-8f78d2f76007|2025-04-15|\n",
      "|VEHICLE    |SCOPE_CLIENT  |datas        |true  |false |     |0     |0.0  |{309, Fake address, Vietnam, false, 21.233564, 105.466807, 77655.5, 4, run, 1745125043331}  |1745125043331 |1745125043331|JSON      |false    |                 |3207b5c0-96f8-46f2-9c38-9a08a825ab6c|false      |[]          |3fa541ad-dda7-4bd8-bdbd-8f78d2f76002|2025-04-20|\n",
      "|VEHICLE    |SCOPE_CLIENT  |datas        |true  |false |     |0     |0.0  |{13, Fake address, Vietnam, false, 21.177408, 105.548231, 83198.11, 17, run, 1745125043331} |1745125043331 |1745125043331|JSON      |false    |                 |3207b5c0-96f8-46f2-9c38-9a08a825ab6c|false      |[]          |3fa541ad-dda7-4bd8-bdbd-8f78d2f76002|2025-04-20|\n",
      "|VEHICLE    |SCOPE_CLIENT  |datas        |true  |false |     |0     |0.0  |{19, Fake address, Vietnam, false, 21.240143, 105.486604, 91147.27, 14, run, 1745125043331} |1745125043331 |1745125043331|JSON      |false    |                 |3207b5c0-96f8-46f2-9c38-9a08a825ab6c|false      |[]          |3fa541ad-dda7-4bd8-bdbd-8f78d2f76002|2025-04-20|\n",
      "|VEHICLE    |SCOPE_CLIENT  |datas        |true  |false |     |0     |0.0  |{237, Fake address, Vietnam, false, 21.203351, 105.497444, 74428.76, 67, run, 1745125043331}|1745125043331 |1745125043331|JSON      |false    |                 |3207b5c0-96f8-46f2-9c38-9a08a825ab6c|false      |[]          |3fa541ad-dda7-4bd8-bdbd-8f78d2f76002|2025-04-20|\n",
      "|VEHICLE    |SCOPE_CLIENT  |datas        |true  |false |     |0     |0.0  |{49, Fake address, Vietnam, false, 21.247725, 105.513082, 65436.03, 36, run, 1745125043331} |1745125043331 |1745125043331|JSON      |false    |                 |3207b5c0-96f8-46f2-9c38-9a08a825ab6c|false      |[]          |3fa541ad-dda7-4bd8-bdbd-8f78d2f76002|2025-04-20|\n",
      "|VEHICLE    |SCOPE_CLIENT  |datas        |true  |false |     |0     |0.0  |{126, Fake address, Vietnam, false, 21.210904, 105.512369, 59500.51, 86, run, 1745125043331}|1745125043331 |1745125043331|JSON      |false    |                 |3207b5c0-96f8-46f2-9c38-9a08a825ab6c|false      |[]          |3fa541ad-dda7-4bd8-bdbd-8f78d2f76002|2025-04-20|\n",
      "|VEHICLE    |SCOPE_CLIENT  |datas        |true  |false |     |0     |0.0  |{254, Fake address, Vietnam, false, 21.180168, 105.481844, 72021.9, 54, run, 1745125043331} |1745125043331 |1745125043331|JSON      |false    |                 |3207b5c0-96f8-46f2-9c38-9a08a825ab6c|false      |[]          |3fa541ad-dda7-4bd8-bdbd-8f78d2f76002|2025-04-20|\n",
      "|VEHICLE    |SCOPE_CLIENT  |datas        |true  |false |     |0     |0.0  |{120, Fake address, Vietnam, false, 21.15345, 105.466671, 55373.88, 42, run, 1745132640968} |1745132640968 |1745132640968|JSON      |false    |                 |3207b5c0-96f8-46f2-9c38-9a08a825ab6c|false      |[]          |3fa541ad-dda7-4bd8-bdbd-8f78d2f76002|2025-04-20|\n",
      "|VEHICLE    |SCOPE_CLIENT  |datas        |true  |false |     |0     |0.0  |{156, Fake address, Vietnam, false, 21.245125, 105.510824, 96784.72, 80, run, 1745132640968}|1745132640968 |1745132640968|JSON      |false    |                 |3207b5c0-96f8-46f2-9c38-9a08a825ab6c|false      |[]          |3fa541ad-dda7-4bd8-bdbd-8f78d2f76002|2025-04-20|\n",
      "|VEHICLE    |SCOPE_CLIENT  |datas        |true  |false |     |0     |0.0  |{145, Fake address, Vietnam, false, 21.191773, 105.474522, 60171.75, 50, run, 1745132640968}|1745132640968 |1745132640968|JSON      |false    |                 |3207b5c0-96f8-46f2-9c38-9a08a825ab6c|false      |[]          |3fa541ad-dda7-4bd8-bdbd-8f78d2f76002|2025-04-20|\n",
      "|VEHICLE    |SCOPE_CLIENT  |datas        |true  |false |     |0     |0.0  |{256, Fake address, Vietnam, false, 21.221085, 105.489954, 79554.06, 33, run, 1745132640968}|1745132640968 |1745132640968|JSON      |false    |                 |3207b5c0-96f8-46f2-9c38-9a08a825ab6c|false      |[]          |3fa541ad-dda7-4bd8-bdbd-8f78d2f76002|2025-04-20|\n",
      "|VEHICLE    |SCOPE_CLIENT  |datas        |true  |false |     |0     |0.0  |{266, Fake address, Vietnam, false, 21.24351, 105.468917, 57293.12, 30, run, 1745132640968} |1745132640968 |1745132640968|JSON      |false    |                 |3207b5c0-96f8-46f2-9c38-9a08a825ab6c|false      |[]          |3fa541ad-dda7-4bd8-bdbd-8f78d2f76002|2025-04-20|\n",
      "+-----------+--------------+-------------+------+------+-----+------+-----+--------------------------------------------------------------------------------------------+--------------+-------------+----------+---------+-----------------+------------------------------------+-----------+------------+------------------------------------+----------+\n",
      "only showing top 20 rows\n",
      "\n"
     ]
    },
    {
     "name": "stderr",
     "output_type": "stream",
     "text": [
      "[Stage 2:==========================>                                (4 + 5) / 9]"
     ]
    },
    {
     "name": "stdout",
     "output_type": "stream",
     "text": [
      "[INFO] Total number of records: 270\n"
     ]
    },
    {
     "name": "stderr",
     "output_type": "stream",
     "text": [
      "                                                                                "
     ]
    }
   ],
   "source": [
    "# Print the schema to verify the structure\n",
    "print(\"[INFO] Schema of the Parquet DataFrame:\")\n",
    "parquet_df.printSchema()\n",
    "\n",
    "# Print the contents of the DataFrame\n",
    "print(\"[INFO] Contents of the Parquet DataFrame:\")\n",
    "parquet_df.show(truncate=False)\n",
    "\n",
    "# Optional: Count the number of records\n",
    "record_count = parquet_df.count()\n",
    "print(f\"[INFO] Total number of records: {record_count}\")"
   ]
  },
  {
   "cell_type": "code",
   "execution_count": 4,
   "id": "5eece9be-907e-4ced-bde1-5a4242d9f611",
   "metadata": {
    "collapsed": true,
    "jupyter": {
     "outputs_hidden": true
    }
   },
   "outputs": [
    {
     "name": "stdout",
     "output_type": "stream",
     "text": [
      "[INFO] One vehicle DataFrame loaded.\n",
      "[INFO] Total number of records: 27\n"
     ]
    }
   ],
   "source": [
    "one_vehicle_df = spark.read \\\n",
    "    .format(\"parquet\") \\\n",
    "    .load(f\"s3a://{MINIO_BUCKET}/{MINIO_PATH}/entity_id=3fa541ad-dda7-4bd8-bdbd-8f78d2f76000\")\n",
    "\n",
    "print(\"[INFO] One vehicle DataFrame loaded.\")\n",
    "\n",
    "record_count = one_vehicle_df.count()\n",
    "print(f\"[INFO] Total number of records: {record_count}\")"
   ]
  },
  {
   "cell_type": "code",
   "execution_count": null,
   "id": "0137254c-112c-45a2-90ff-efdbb4a9aebe",
   "metadata": {
    "collapsed": true,
    "jupyter": {
     "outputs_hidden": true
    }
   },
   "outputs": [],
   "source": []
  }
 ],
 "metadata": {
  "kernelspec": {
   "display_name": "Python 3 (ipykernel)",
   "language": "python",
   "name": "python3"
  },
  "language_info": {
   "codemirror_mode": {
    "name": "ipython",
    "version": 3
   },
   "file_extension": ".py",
   "mimetype": "text/x-python",
   "name": "python",
   "nbconvert_exporter": "python",
   "pygments_lexer": "ipython3",
   "version": "3.8.10"
  }
 },
 "nbformat": 4,
 "nbformat_minor": 5
}
